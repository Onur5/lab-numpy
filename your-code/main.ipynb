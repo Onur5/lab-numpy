{
 "cells": [
  {
   "cell_type": "markdown",
   "metadata": {},
   "source": [
    "# Intrduction to NumPy\n",
    "\n",
    "\n",
    "#### 1. Import NumPy under the name np."
   ]
  },
  {
   "cell_type": "code",
   "execution_count": 1,
   "metadata": {},
   "outputs": [],
   "source": [
    "# your code here\n",
    "import numpy as np"
   ]
  },
  {
   "cell_type": "markdown",
   "metadata": {},
   "source": [
    "#### 2. Print your NumPy version."
   ]
  },
  {
   "cell_type": "code",
   "execution_count": 2,
   "metadata": {},
   "outputs": [
    {
     "data": {
      "text/plain": [
       "'1.16.2'"
      ]
     },
     "execution_count": 2,
     "metadata": {},
     "output_type": "execute_result"
    }
   ],
   "source": [
    "# your code here\n",
    "np.version.version"
   ]
  },
  {
   "cell_type": "markdown",
   "metadata": {},
   "source": [
    "#### 3. Generate a 2x3x5 3-dimensional array with random values. Assign the array to variable *a*.\n",
    "**Challenge**: there are at least three easy ways that use numpy to generate random arrays. How many ways can you find?"
   ]
  },
  {
   "cell_type": "code",
   "execution_count": 3,
   "metadata": {},
   "outputs": [
    {
     "name": "stdout",
     "output_type": "stream",
     "text": [
      "[[[0.42435251 0.5855895  0.15037455 0.19949016 0.74914277]\n",
      "  [0.21986084 0.28500203 0.6432525  0.16216626 0.99225421]\n",
      "  [0.76264772 0.82381894 0.04304778 0.39383489 0.47719044]]\n",
      "\n",
      " [[0.98550825 0.39973996 0.66939729 0.51074969 0.9726982 ]\n",
      "  [0.20598637 0.65414576 0.61468834 0.99863905 0.51070478]\n",
      "  [0.82379341 0.1621399  0.28023179 0.77497229 0.48136736]]]\n"
     ]
    }
   ],
   "source": [
    "# Method 1\n",
    "a = np.random.random((2, 3, 5))\n",
    "print(a)"
   ]
  },
  {
   "cell_type": "code",
   "execution_count": 4,
   "metadata": {},
   "outputs": [
    {
     "name": "stdout",
     "output_type": "stream",
     "text": [
      "[[[0.1433885  0.88049133 0.40548637 0.6933301  0.72047175]\n",
      "  [0.05995836 0.22927626 0.79611928 0.53524036 0.68390572]\n",
      "  [0.24755485 0.12882436 0.7230488  0.46512317 0.26065455]]\n",
      "\n",
      " [[0.88420261 0.70057725 0.64640191 0.07886432 0.17075496]\n",
      "  [0.44109135 0.96651227 0.9311136  0.0035723  0.12186072]\n",
      "  [0.1659316  0.60502421 0.55494294 0.68503376 0.53867867]]]\n"
     ]
    }
   ],
   "source": [
    "# Method 2\n",
    "matrix1 = np.random.sample((2 ,3 ,5))\n",
    "print(matrix1)"
   ]
  },
  {
   "cell_type": "code",
   "execution_count": 5,
   "metadata": {},
   "outputs": [
    {
     "name": "stdout",
     "output_type": "stream",
     "text": [
      "[[[0.59549617 0.10738669 0.68094055 0.89152434 0.52254466]\n",
      "  [0.06070921 0.04688138 0.56929799 0.24396182 0.28390077]\n",
      "  [0.68817183 0.85709633 0.45361797 0.2612324  0.19842011]]\n",
      "\n",
      " [[0.91269964 0.84560988 0.91691235 0.42876301 0.41611652]\n",
      "  [0.19723387 0.70639939 0.95629158 0.18102535 0.51708734]\n",
      "  [0.07303008 0.7637508  0.5179717  0.15687348 0.32692174]]]\n"
     ]
    }
   ],
   "source": [
    "# Method 3\n",
    "matrix2 = np.random.ranf((2, 3, 5))\n",
    "print(matrix2)"
   ]
  },
  {
   "cell_type": "markdown",
   "metadata": {},
   "source": [
    "#### 4. Print *a*.\n"
   ]
  },
  {
   "cell_type": "code",
   "execution_count": 6,
   "metadata": {},
   "outputs": [
    {
     "name": "stdout",
     "output_type": "stream",
     "text": [
      "[[[0.42435251 0.5855895  0.15037455 0.19949016 0.74914277]\n",
      "  [0.21986084 0.28500203 0.6432525  0.16216626 0.99225421]\n",
      "  [0.76264772 0.82381894 0.04304778 0.39383489 0.47719044]]\n",
      "\n",
      " [[0.98550825 0.39973996 0.66939729 0.51074969 0.9726982 ]\n",
      "  [0.20598637 0.65414576 0.61468834 0.99863905 0.51070478]\n",
      "  [0.82379341 0.1621399  0.28023179 0.77497229 0.48136736]]]\n"
     ]
    }
   ],
   "source": [
    "# your code here\n",
    "print(a)"
   ]
  },
  {
   "cell_type": "markdown",
   "metadata": {},
   "source": [
    "#### 5. Create a 5x2x3 3-dimensional array with all values equaling 1. Assign the array to variable *b*."
   ]
  },
  {
   "cell_type": "code",
   "execution_count": 7,
   "metadata": {},
   "outputs": [
    {
     "name": "stdout",
     "output_type": "stream",
     "text": [
      "[[[1. 1. 1.]\n",
      "  [1. 1. 1.]]\n",
      "\n",
      " [[1. 1. 1.]\n",
      "  [1. 1. 1.]]\n",
      "\n",
      " [[1. 1. 1.]\n",
      "  [1. 1. 1.]]\n",
      "\n",
      " [[1. 1. 1.]\n",
      "  [1. 1. 1.]]\n",
      "\n",
      " [[1. 1. 1.]\n",
      "  [1. 1. 1.]]]\n"
     ]
    }
   ],
   "source": [
    "# your code here\n",
    "b = np.ones((5, 2, 3))\n",
    "print(b)"
   ]
  },
  {
   "cell_type": "markdown",
   "metadata": {},
   "source": [
    "#### 6. Print *b*.\n"
   ]
  },
  {
   "cell_type": "code",
   "execution_count": 8,
   "metadata": {},
   "outputs": [
    {
     "name": "stdout",
     "output_type": "stream",
     "text": [
      "[[[1. 1. 1.]\n",
      "  [1. 1. 1.]]\n",
      "\n",
      " [[1. 1. 1.]\n",
      "  [1. 1. 1.]]\n",
      "\n",
      " [[1. 1. 1.]\n",
      "  [1. 1. 1.]]\n",
      "\n",
      " [[1. 1. 1.]\n",
      "  [1. 1. 1.]]\n",
      "\n",
      " [[1. 1. 1.]\n",
      "  [1. 1. 1.]]]\n"
     ]
    }
   ],
   "source": [
    "# your code here\n",
    "print(b)"
   ]
  },
  {
   "cell_type": "markdown",
   "metadata": {},
   "source": [
    "#### 7. Do *a* and *b* have the same size? How do you prove that in Python code?"
   ]
  },
  {
   "cell_type": "code",
   "execution_count": 9,
   "metadata": {},
   "outputs": [
    {
     "name": "stdout",
     "output_type": "stream",
     "text": [
      "True\n"
     ]
    }
   ],
   "source": [
    "# your code here\n",
    "if a.size == b.size:\n",
    "    print(True)\n",
    "else:\n",
    "    print(False)"
   ]
  },
  {
   "cell_type": "markdown",
   "metadata": {},
   "source": [
    "#### 8. Are you able to add *a* and *b*? Why or why not?\n"
   ]
  },
  {
   "cell_type": "code",
   "execution_count": 10,
   "metadata": {},
   "outputs": [],
   "source": [
    "# your answer here\n",
    "#It is not possible as the size is equal but the shape is different"
   ]
  },
  {
   "cell_type": "markdown",
   "metadata": {},
   "source": [
    "#### 9. Transpose *b* so that it has the same structure of *a* (i.e. become a 2x3x5 array). Assign the transposed array to variable *c*."
   ]
  },
  {
   "cell_type": "code",
   "execution_count": 11,
   "metadata": {},
   "outputs": [
    {
     "name": "stdout",
     "output_type": "stream",
     "text": [
      "[[[1. 1. 1. 1. 1.]\n",
      "  [1. 1. 1. 1. 1.]\n",
      "  [1. 1. 1. 1. 1.]]\n",
      "\n",
      " [[1. 1. 1. 1. 1.]\n",
      "  [1. 1. 1. 1. 1.]\n",
      "  [1. 1. 1. 1. 1.]]]\n"
     ]
    }
   ],
   "source": [
    "# your code here\n",
    "c = b.reshape(a.shape)\n",
    "print(c)"
   ]
  },
  {
   "cell_type": "markdown",
   "metadata": {},
   "source": [
    "#### 10. Try to add *a* and *c*. Now it should work. Assign the sum to variable *d*. But why does it work now?"
   ]
  },
  {
   "cell_type": "code",
   "execution_count": 12,
   "metadata": {},
   "outputs": [],
   "source": [
    "# your code/answer here\n",
    "d = np.add(a, c)\n",
    "# Because the shapes are equal now"
   ]
  },
  {
   "cell_type": "markdown",
   "metadata": {},
   "source": [
    "#### 11. Print *a* and *d*. Notice the difference and relation of the two array in terms of the values? Explain."
   ]
  },
  {
   "cell_type": "code",
   "execution_count": 13,
   "metadata": {},
   "outputs": [
    {
     "name": "stdout",
     "output_type": "stream",
     "text": [
      "[[[0.42435251 0.5855895  0.15037455 0.19949016 0.74914277]\n",
      "  [0.21986084 0.28500203 0.6432525  0.16216626 0.99225421]\n",
      "  [0.76264772 0.82381894 0.04304778 0.39383489 0.47719044]]\n",
      "\n",
      " [[0.98550825 0.39973996 0.66939729 0.51074969 0.9726982 ]\n",
      "  [0.20598637 0.65414576 0.61468834 0.99863905 0.51070478]\n",
      "  [0.82379341 0.1621399  0.28023179 0.77497229 0.48136736]]]\n",
      "\n",
      "\n",
      "[[[1.42435251 1.5855895  1.15037455 1.19949016 1.74914277]\n",
      "  [1.21986084 1.28500203 1.6432525  1.16216626 1.99225421]\n",
      "  [1.76264772 1.82381894 1.04304778 1.39383489 1.47719044]]\n",
      "\n",
      " [[1.98550825 1.39973996 1.66939729 1.51074969 1.9726982 ]\n",
      "  [1.20598637 1.65414576 1.61468834 1.99863905 1.51070478]\n",
      "  [1.82379341 1.1621399  1.28023179 1.77497229 1.48136736]]]\n"
     ]
    }
   ],
   "source": [
    "# your code/answer here\n",
    "print(a)\n",
    "print(\"\\n\")\n",
    "print(d)\n",
    "\n",
    "# Matrix d has everywhere +1 due to the addtion of matrix c, which consisted of 1´s only."
   ]
  },
  {
   "cell_type": "markdown",
   "metadata": {},
   "source": [
    "#### 12. Multiply *a* and *c*. Assign the result to *e*."
   ]
  },
  {
   "cell_type": "code",
   "execution_count": 14,
   "metadata": {},
   "outputs": [
    {
     "name": "stdout",
     "output_type": "stream",
     "text": [
      "[[[0.42435251 0.5855895  0.15037455 0.19949016 0.74914277]\n",
      "  [0.21986084 0.28500203 0.6432525  0.16216626 0.99225421]\n",
      "  [0.76264772 0.82381894 0.04304778 0.39383489 0.47719044]]\n",
      "\n",
      " [[0.98550825 0.39973996 0.66939729 0.51074969 0.9726982 ]\n",
      "  [0.20598637 0.65414576 0.61468834 0.99863905 0.51070478]\n",
      "  [0.82379341 0.1621399  0.28023179 0.77497229 0.48136736]]]\n"
     ]
    }
   ],
   "source": [
    "# your code here\n",
    "e = np.multiply(a, c)\n",
    "print(e)"
   ]
  },
  {
   "cell_type": "markdown",
   "metadata": {},
   "source": [
    "#### 13. Does *e* equal to *a*? Why or why not?\n"
   ]
  },
  {
   "cell_type": "code",
   "execution_count": 15,
   "metadata": {},
   "outputs": [],
   "source": [
    "# your code/answer here\n",
    "\n",
    "#As we multiplied all values in a with 1´s it does equal each other."
   ]
  },
  {
   "cell_type": "markdown",
   "metadata": {},
   "source": [
    "#### 14. Identify the max, min, and mean values in *d*. Assign those values to variables *d_max*, *d_min* and *d_mean*."
   ]
  },
  {
   "cell_type": "code",
   "execution_count": 16,
   "metadata": {},
   "outputs": [
    {
     "name": "stdout",
     "output_type": "stream",
     "text": [
      "1.9986390477889948 1.043047782607346 1.5318929182452534\n"
     ]
    }
   ],
   "source": [
    "# your code here\n",
    "d_max = np.max(d)\n",
    "d_min = np.min(d)\n",
    "d_mean = np.mean(d)\n",
    "print(d_max, d_min, d_mean)"
   ]
  },
  {
   "cell_type": "markdown",
   "metadata": {},
   "source": [
    "#### 15. Now we want to label the values in *d*. First create an empty array *f* with the same shape (i.e. 2x3x5) as *d* using `np.empty`.\n"
   ]
  },
  {
   "cell_type": "code",
   "execution_count": 17,
   "metadata": {},
   "outputs": [
    {
     "name": "stdout",
     "output_type": "stream",
     "text": [
      "[[[0.42435251 0.5855895  0.15037455 0.19949016 0.74914277]\n",
      "  [0.21986084 0.28500203 0.6432525  0.16216626 0.99225421]\n",
      "  [0.76264772 0.82381894 0.04304778 0.39383489 0.47719044]]\n",
      "\n",
      " [[0.98550825 0.39973996 0.66939729 0.51074969 0.9726982 ]\n",
      "  [0.20598637 0.65414576 0.61468834 0.99863905 0.51070478]\n",
      "  [0.82379341 0.1621399  0.28023179 0.77497229 0.48136736]]]\n"
     ]
    }
   ],
   "source": [
    "# your code here\n",
    "f = np.empty((2,3,5))\n",
    "print(f)"
   ]
  },
  {
   "cell_type": "markdown",
   "metadata": {},
   "source": [
    "#### 16. Populate the values in *f*. \n",
    "\n",
    "For each value in *d*, if it's larger than *d_min* but smaller than *d_mean*, assign 25 to the corresponding value in *f*. If a value in *d* is larger than *d_mean* but smaller than *d_max*, assign 75 to the corresponding value in *f*. If a value equals to *d_mean*, assign 50 to the corresponding value in *f*. Assign 0 to the corresponding value(s) in *f* for *d_min* in *d*. Assign 100 to the corresponding value(s) in *f* for *d_max* in *d*. In the end, f should have only the following values: 0, 25, 50, 75, and 100.\n",
    "\n",
    "**Note**: you don't have to use Numpy in this question."
   ]
  },
  {
   "cell_type": "code",
   "execution_count": 21,
   "metadata": {},
   "outputs": [
    {
     "name": "stdout",
     "output_type": "stream",
     "text": [
      "[[[ 25.  75.  25.  25.  75.]\n",
      "  [ 25.  25.  75.  25.  75.]\n",
      "  [ 75.  75.   0.  25.  25.]]\n",
      "\n",
      " [[ 75.  25.  75.  25.  75.]\n",
      "  [ 25.  75.  75. 100.  25.]\n",
      "  [ 75.  25.  25.  75.  25.]]]\n"
     ]
    }
   ],
   "source": [
    "# your code here\n",
    "\n",
    "for i in range(2):\n",
    "    for ii in range(3):\n",
    "        for iii in range(5):\n",
    "            if d[i][ii][iii] > d_min and d[i][ii][iii] < d_mean:\n",
    "                f[i][ii][iii] = 25\n",
    "            elif d[i][ii][iii] == d_min:\n",
    "                f[i][ii][iii] = 0\n",
    "            elif d[i][ii][iii] == d_mean:\n",
    "                f[i][ii][iii] = 50\n",
    "            elif d[i][ii][iii] < d_max and d[i][ii][iii] > d_mean:\n",
    "                f[i][ii][iii] = 75\n",
    "            else:\n",
    "                f[i][ii][iii] = 100\n",
    "                \n",
    "print (f)"
   ]
  },
  {
   "cell_type": "markdown",
   "metadata": {},
   "source": [
    "#### 17. Print *d* and *f*. Do you have your expected *f*?\n",
    "For instance, if your *d* is:\n",
    "```python\n",
    "[[[1.85836099, 1.67064465, 1.62576044, 1.40243961, 1.88454931],\n",
    "[1.75354326, 1.69403643, 1.36729252, 1.61415071, 1.12104981],\n",
    "[1.72201435, 1.1862918 , 1.87078449, 1.7726778 , 1.88180042]],\n",
    "[[1.44747908, 1.31673383, 1.02000951, 1.52218947, 1.97066381],\n",
    "[1.79129243, 1.74983003, 1.96028037, 1.85166831, 1.65450881],\n",
    "[1.18068344, 1.9587381 , 1.00656599, 1.93402165, 1.73514584]]]\n",
    "```\n",
    "Your *f* should be:\n",
    "```python\n",
    "[[[ 75.,  75.,  75.,  25.,  75.],\n",
    "[ 75.,  75.,  25.,  25.,  25.],\n",
    "[ 75.,  25.,  75.,  75.,  75.]],\n",
    "[[ 25.,  25.,  25.,  25., 100.],\n",
    "[ 75.,  75.,  75.,  75.,  75.],\n",
    "[ 25.,  75.,   0.,  75.,  75.]]]\n",
    "```"
   ]
  },
  {
   "cell_type": "code",
   "execution_count": 26,
   "metadata": {},
   "outputs": [
    {
     "name": "stdout",
     "output_type": "stream",
     "text": [
      "[[[1.42435251 1.5855895  1.15037455 1.19949016 1.74914277]\n",
      "  [1.21986084 1.28500203 1.6432525  1.16216626 1.99225421]\n",
      "  [1.76264772 1.82381894 1.04304778 1.39383489 1.47719044]]\n",
      "\n",
      " [[1.98550825 1.39973996 1.66939729 1.51074969 1.9726982 ]\n",
      "  [1.20598637 1.65414576 1.61468834 1.99863905 1.51070478]\n",
      "  [1.82379341 1.1621399  1.28023179 1.77497229 1.48136736]]]\n",
      "[[[ 25.  75.  25.  25.  75.]\n",
      "  [ 25.  25.  75.  25.  75.]\n",
      "  [ 75.  75.   0.  25.  25.]]\n",
      "\n",
      " [[ 75.  25.  75.  25.  75.]\n",
      "  [ 25.  75.  75. 100.  25.]\n",
      "  [ 75.  25.  25.  75.  25.]]]\n"
     ]
    }
   ],
   "source": [
    "# your code here\n",
    "print(d)\n",
    "print(f)"
   ]
  },
  {
   "cell_type": "markdown",
   "metadata": {},
   "source": [
    "#### 18. Bonus question: instead of using numbers (i.e. 0, 25, 50, 75, and 100), use string values  (\"A\", \"B\", \"C\", \"D\", and \"E\") to label the array elements. For the example above, the expected result is:\n",
    "\n",
    "```python\n",
    "[[[ 'D',  'D',  'D',  'B',  'D'],\n",
    "[ 'D',  'D',  'B',  'B',  'B'],\n",
    "[ 'D',  'B',  'D',  'D',  'D']],\n",
    "[[ 'B',  'B',  'B',  'B',  'E'],\n",
    "[ 'D',  'D',  'D',  'D',  'D'],\n",
    "[ 'B',  'D',   'A',  'D', 'D']]]\n",
    "```\n",
    "**Note**: you don't have to use Numpy in this question."
   ]
  },
  {
   "cell_type": "code",
   "execution_count": 28,
   "metadata": {},
   "outputs": [],
   "source": [
    "# your code here"
   ]
  }
 ],
 "metadata": {
  "kernelspec": {
   "display_name": "Python 3",
   "language": "python",
   "name": "python3"
  },
  "language_info": {
   "codemirror_mode": {
    "name": "ipython",
    "version": 3
   },
   "file_extension": ".py",
   "mimetype": "text/x-python",
   "name": "python",
   "nbconvert_exporter": "python",
   "pygments_lexer": "ipython3",
   "version": "3.7.3"
  }
 },
 "nbformat": 4,
 "nbformat_minor": 2
}
